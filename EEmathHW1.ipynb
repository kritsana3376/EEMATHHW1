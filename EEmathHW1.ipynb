{
  "nbformat": 4,
  "nbformat_minor": 0,
  "metadata": {
    "colab": {
      "name": "EEmathHW1.ipynb",
      "provenance": [],
      "collapsed_sections": [],
      "authorship_tag": "ABX9TyM3mrpPaShUzyU2wEbYhur+",
      "include_colab_link": true
    },
    "kernelspec": {
      "name": "python3",
      "display_name": "Python 3"
    },
    "language_info": {
      "name": "python"
    }
  },
  "cells": [
    {
      "cell_type": "markdown",
      "metadata": {
        "id": "view-in-github",
        "colab_type": "text"
      },
      "source": [
        "<a href=\"https://colab.research.google.com/github/kritsana3376/EEMATHHW1/blob/main/EEmathHW1.ipynb\" target=\"_parent\"><img src=\"https://colab.research.google.com/assets/colab-badge.svg\" alt=\"Open In Colab\"/></a>"
      ]
    },
    {
      "cell_type": "code",
      "execution_count": null,
      "metadata": {
        "id": "CntLO_y8TMhI",
        "colab": {
          "base_uri": "https://localhost:8080/"
        },
        "outputId": "c58aa932-6513-4b49-f918-0f95b6e2ee53"
      },
      "outputs": [
        {
          "output_type": "stream",
          "name": "stdout",
          "text": [
            "Average matrix inversion Computational time 1.143 ms.\n",
            "Averge Gauss elimintion Computational time 0.546 ms.\n"
          ]
        }
      ],
      "source": [
        "import time\n",
        "import numpy as np\n",
        "#matrix inversion\n",
        "t_sum = 0\n",
        "for k in range(1000): # try for 1000 smple\n",
        "    A = np.random.randn(100,100) #generate random matrix A of 100 x 100\n",
        "    b = np.random.randn(100,) #generate random vector b of 100\n",
        "    t1 = time.process_time()\n",
        "    x = np.dot(np.linalg.inv(A),b) # x = A{-1} x b\n",
        "    t2 = time.process_time()\n",
        "    t_sum += t2-t1\n",
        "t_avg = t_sum/1000\n",
        "print(f\"Average matrix inversion Computational time {t_avg*1000:0.3f} ms.\")\n",
        "#Gauss elimintion\n",
        "t_sum1 = 0\n",
        "for k1 in range(1000): # try for 1000 smple\n",
        "    A1 = np.random.randn(100,100)\n",
        "    b1 = np.random.randn(100,)\n",
        "    t11 = time.process_time()\n",
        "    x1 = np.linalg.solve(A1,b1) # solve Ax = b\n",
        "    t21 = time.process_time()\n",
        "    t_sum1 += t21-t11\n",
        "t_avg1 = t_sum1/1000\n",
        "print(f\"Averge Gauss elimintion Computational time {t_avg1*1000:0.3f} ms.\")"
      ]
    },
    {
      "cell_type": "code",
      "source": [
        "#matrix inversion\n",
        "t_sum2 = 0\n",
        "for k2 in range(1000): # try for 1000 smple\n",
        "    A2 = np.random.randn(10,10) #generate random matrix A of 10 x 10\n",
        "    b2 = np.random.randn(10,) #generate random vector b of 10\n",
        "    t12 = time.process_time()\n",
        "    x2 = np.dot(np.linalg.inv(A2),b2) # x = A{-1} x b\n",
        "    t22 = time.process_time()\n",
        "    t_sum2 += t22-t12\n",
        "t_avg2 = t_sum2/1000\n",
        "print(f\"Average matrix inversion Computational time {t_avg2*1000:0.3f} ms.\")\n",
        "#Gauss elimintion\n",
        "t_sum3 = 0\n",
        "for k3 in range(1000): # try for 1000 smple\n",
        "    A3 = np.random.randn(10,10)\n",
        "    b3 = np.random.randn(10,)\n",
        "    t13 = time.process_time()\n",
        "    x3 = np.linalg.solve(A3,b3) # solve Ax = b\n",
        "    t23 = time.process_time()\n",
        "    t_sum3 += t23-t13\n",
        "t_avg3 = t_sum3/1000\n",
        "print(f\"Averge Gauss elimintion Computational time {t_avg3*1000:0.3f} ms.\")"
      ],
      "metadata": {
        "id": "LwaNigwQTYa1",
        "colab": {
          "base_uri": "https://localhost:8080/"
        },
        "outputId": "b83048fc-9a13-4c79-ec05-f2553cb90a1e"
      },
      "execution_count": null,
      "outputs": [
        {
          "output_type": "stream",
          "name": "stdout",
          "text": [
            "Average matrix inversion Computational time 0.050 ms.\n",
            "Averge Gauss elimintion Computational time 0.037 ms.\n"
          ]
        }
      ]
    },
    {
      "cell_type": "code",
      "source": [
        "#matrix inversion\n",
        "t_sum4 = 0\n",
        "for k4 in range(1000): # try for 1000 smple\n",
        "    A4 = np.random.randn(500,500) #generate random matrix A of 500 x 500\n",
        "    b4 = np.random.randn(500,) #generate random vector b of 500\n",
        "    t14 = time.process_time()\n",
        "    x4 = np.dot(np.linalg.inv(A4),b4) # x = A{-1} x b\n",
        "    t24 = time.process_time()\n",
        "    t_sum4 += t24-t14\n",
        "t_avg4 = t_sum4/1000\n",
        "print(f\"Average matrix inversion Computational time {t_avg4*1000:0.3f} ms.\")\n",
        "#Gauss elimintion\n",
        "t_sum5 = 0\n",
        "for k5 in range(1000): # try for 1000 smple\n",
        "    A5 = np.random.randn(500,500)\n",
        "    b5 = np.random.randn(500,)\n",
        "    t15 = time.process_time()\n",
        "    x5 = np.linalg.solve(A5,b5) # solve Ax = b\n",
        "    t25 = time.process_time()\n",
        "    t_sum5 += t25-t15\n",
        "t_avg5 = t_sum5/1000\n",
        "print(f\"Averge Gauss elimintion Computational time {t_avg5*1000:0.3f} ms.\")\n",
        "    "
      ],
      "metadata": {
        "id": "AO6CNi02TeJA",
        "colab": {
          "base_uri": "https://localhost:8080/"
        },
        "outputId": "4075844b-ad92-4144-c24f-3d57ddc5d6ac"
      },
      "execution_count": null,
      "outputs": [
        {
          "output_type": "stream",
          "name": "stdout",
          "text": [
            "Average matrix inversion Computational time 44.578 ms.\n",
            "Averge Gauss elimintion Computational time 17.351 ms.\n"
          ]
        }
      ]
    },
    {
      "cell_type": "code",
      "source": [
        "#matrix inversion\n",
        "t_sum6 = 0\n",
        "for k6 in range(1000): # try for 1000 smple\n",
        "    A6 = np.random.randn(50,50) #generate random matrix A of 500 x 500\n",
        "    b6 = np.random.randn(50,) #generate random vector b of 500\n",
        "    t16 = time.process_time()\n",
        "    x6 = np.dot(np.linalg.inv(A6),b6) # x = A{-1} x b\n",
        "    t26 = time.process_time()\n",
        "    t_sum6 += t26-t16\n",
        "t_avg6 = t_sum6/1000\n",
        "print(f\"Average matrix inversion Computational time {t_avg6*1000:0.3f} ms.\")\n",
        "#Gauss elimintion\n",
        "t_sum7 = 0\n",
        "for k7 in range(1000): # try for 1000 smple\n",
        "    A7 = np.random.randn(50,50)\n",
        "    b7 = np.random.randn(50,)\n",
        "    t17 = time.process_time()\n",
        "    x7 = np.linalg.solve(A5,b5) # solve Ax = b\n",
        "    t27 = time.process_time()\n",
        "    t_sum7 += t27-t17\n",
        "t_avg7 = t_sum7/1000\n",
        "print(f\"Averge Gauss elimintion Computational time {t_avg7*1000:0.3f} ms.\")"
      ],
      "metadata": {
        "id": "qR0QyDQ9TiT9",
        "colab": {
          "base_uri": "https://localhost:8080/"
        },
        "outputId": "da9c6d13-6b40-48fc-c60d-94389bea0383"
      },
      "execution_count": null,
      "outputs": [
        {
          "output_type": "stream",
          "name": "stdout",
          "text": [
            "Average matrix inversion Computational time 0.278 ms.\n",
            "Averge Gauss elimintion Computational time 16.959 ms.\n"
          ]
        }
      ]
    },
    {
      "cell_type": "code",
      "source": [
        "totaldiff1 = 100*((t_avg-t_avg1)/t_avg1)\n",
        "totaldiff2 = 100*((t_avg2-t_avg3)/t_avg3)\n",
        "totaldiff3 = 100*((t_avg4-t_avg5)/t_avg5)\n",
        "totaldiff4 = 100*((t_avg6-t_avg7)/t_avg7)\n",
        "print(f\"totaldiff  100 x 100 {totaldiff1:0.3f} %\")\n",
        "print(f\"totaldiff2 10 x 10   {totaldiff2:0.3f} %\")\n",
        "print(f\"totaldiff3 500 x 500 {totaldiff3:0.3f} %\")\n",
        "print(f\"totaldiff4 50 x 50   {totaldiff4:0.3f} %\")"
      ],
      "metadata": {
        "id": "dMUI2rk5Tm1n",
        "colab": {
          "base_uri": "https://localhost:8080/"
        },
        "outputId": "36b8880c-8c0a-4243-cdc0-6e4df04356c1"
      },
      "execution_count": null,
      "outputs": [
        {
          "output_type": "stream",
          "name": "stdout",
          "text": [
            "totaldiff  100 x 100 109.459 %\n",
            "totaldiff2 10 x 10   36.028 %\n",
            "totaldiff3 500 x 500 156.913 %\n",
            "totaldiff4 50 x 50   -98.361 %\n"
          ]
        }
      ]
    }
  ]
}